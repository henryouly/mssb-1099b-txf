{
  "nbformat": 4,
  "nbformat_minor": 0,
  "metadata": {
    "colab": {
      "name": "MSSB_PDF_TO_TEXT.ipynb",
      "provenance": [],
      "collapsed_sections": [
        "HsMC_8DNqCTN"
      ],
      "include_colab_link": true
    },
    "kernelspec": {
      "name": "python3",
      "display_name": "Python 3"
    },
    "language_info": {
      "name": "python"
    }
  },
  "cells": [
    {
      "cell_type": "markdown",
      "metadata": {
        "id": "view-in-github",
        "colab_type": "text"
      },
      "source": [
        "<a href=\"https://colab.research.google.com/github/henryouly/mssb-1099b-txf/blob/main/MSSB_PDF_TO_TEXT.ipynb\" target=\"_parent\"><img src=\"https://colab.research.google.com/assets/colab-badge.svg\" alt=\"Open In Colab\"/></a>"
      ]
    },
    {
      "cell_type": "markdown",
      "source": [
        "# MSSB Pdf To Text"
      ],
      "metadata": {
        "id": "_drKgAC5pw2L"
      }
    },
    {
      "cell_type": "markdown",
      "source": [
        "## 1. Colab Setup"
      ],
      "metadata": {
        "id": "HsMC_8DNqCTN"
      }
    },
    {
      "cell_type": "markdown",
      "source": [
        "Intall OCR library"
      ],
      "metadata": {
        "id": "6vu4WVlKqJid"
      }
    },
    {
      "metadata": {
        "id": "uWwpI-24_Nob"
      },
      "cell_type": "code",
      "source": [
        "!sudo apt install poppler-utils"
      ],
      "execution_count": null,
      "outputs": []
    },
    {
      "cell_type": "markdown",
      "source": [
        "Restart the runtime"
      ],
      "metadata": {
        "id": "-3NAK7QmqmRO"
      }
    },
    {
      "cell_type": "markdown",
      "source": [
        "Importing Libraries"
      ],
      "metadata": {
        "id": "r5lbIKUPqt9L"
      }
    },
    {
      "metadata": {
        "id": "QKJh7JjTAqzO"
      },
      "cell_type": "code",
      "source": [
        "import datetime\n",
        "import re\n",
        "import subprocess\n",
        "import sys\n",
        "from google.colab import files\n"
      ],
      "execution_count": null,
      "outputs": []
    },
    {
      "cell_type": "markdown",
      "source": [
        "## 2. Upload the PDF"
      ],
      "metadata": {
        "id": "J_uX-ASGq4_l"
      }
    },
    {
      "metadata": {
        "id": "8zmc-K_nAyg1"
      },
      "cell_type": "code",
      "source": [
        "uploaded = files.upload()\n",
        "filename = list(uploaded.keys())[0]\n",
        "print(filename)"
      ],
      "execution_count": null,
      "outputs": []
    },
    {
      "cell_type": "markdown",
      "source": [
        "## 3. Run PdfToText"
      ],
      "metadata": {
        "id": "UX0DkULxT_H0"
      }
    },
    {
      "cell_type": "code",
      "source": [
        "import subprocess\n",
        "\n",
        "text = subprocess.check_output(['pdftotext', '-raw', filename, '-']).decode()"
      ],
      "metadata": {
        "id": "xi12tPoxTMny"
      },
      "execution_count": null,
      "outputs": []
    },
    {
      "cell_type": "code",
      "source": [
        "print(text)"
      ],
      "metadata": {
        "id": "ve0GqVdNTri0"
      },
      "execution_count": null,
      "outputs": []
    },
    {
      "cell_type": "markdown",
      "source": [
        "## 4. Convert to TXF"
      ],
      "metadata": {
        "id": "2C9kWzzcthbb"
      }
    },
    {
      "metadata": {
        "id": "HaM3cMUDA_Ma"
      },
      "cell_type": "code",
      "source": [
        "txf_filename = f\"{filename[:-4]}.txf\"\n",
        "\n",
        "# Codes and structure are defined at\n",
        "# https://www.taxdataexchange.org/txf/txf-spec.html\n",
        "categories = {\n",
        "        'Short Term – Noncovered Securities': '711',\n",
        "        'Long Term – Noncovered Securities': '713',\n",
        "}\n",
        "\n",
        "# Match a section of sales for one sales category.\n",
        "# The last line can say 'Total Short Term – Noncovered Securities' or\n",
        "# 'Total Short Term Noncovered Securities' (without the hypen) so match\n",
        "# only on \"^Total\".\n",
        "categories_pattern = '|'.join(categories)\n",
        "section_expr = re.compile(\n",
        "        r'('+categories_pattern+r')'\n",
        "        r'(.*?)'\n",
        "        r'^Total', re.DOTALL|re.MULTILINE)\n",
        "\n",
        "# Fields: RefNumber Description CUSIP Quantity DateAcquired DateSold\n",
        "#         GrossProceeds CostBasis\n",
        "#\n",
        "# Example:\n",
        "#   1234 ALPHABET INC CL C\n",
        "#   12345A678\n",
        "#   1.000000 01/01/20 02/01/20 $2,000.00 $1,9999.00\n",
        "#\n",
        "# Example:\n",
        "#   1234 ALPHABET INC CL C\n",
        "#   12345A678\n",
        "#   1.000000 VARIOUS 02/01/20 $2,000.00 $1,9999.00\n",
        "row_expr = re.compile(\n",
        "        r'^(?P<descr>(\\w| )+)\\s+'\n",
        "        r'(?P<cusip>\\w+)\\s+'\n",
        "        r'(?P<quantity>\\d*\\.\\d+)\\s+'\n",
        "        r'(?P<acquired>(\\d+/\\d+/\\d+|\\w+))\\s+'\n",
        "        r'(?P<sold>\\d+/\\d+/\\d+)\\s+'\n",
        "        r'(?P<proceeds>\\$[0-9,.]+)\\s+'\n",
        "        r'(?P<cost>\\$[0-9,.]+)\\s', re.DOTALL|re.MULTILINE)\n",
        "\n",
        "def parseAndPrintRows(text, entry_code, f):\n",
        "    for match in row_expr.finditer(text):\n",
        "        print('TD', file=f)\n",
        "        print('N' + entry_code, file=f)\n",
        "        print('C1', file=f)\n",
        "        print('L1', file=f)\n",
        "        print('P' + match.group('descr'), file=f)\n",
        "        print('D' + match.group('acquired'), file=f)\n",
        "        print('D' + match.group('sold'), file=f)\n",
        "        # These have a leading dollar sign.\n",
        "        print(match.group('cost'), file=f)\n",
        "        print(match.group('proceeds'), file=f)\n",
        "        print(\"$\", file=f) # Wash sale. Leaving blank. They aren't handled here.\n",
        "        print('^', file=f)\n",
        "\n",
        "with open(txf_filename, \"w\") as f:\n",
        "  print('V042', file=f)\n",
        "  print('A mssb_1099b_to_txf', file=f)\n",
        "  print('D ' + datetime.datetime.now().strftime('%m/%d/%Y'), file=f)\n",
        "  print('^', file=f)\n",
        "  for section_match in section_expr.finditer(text):\n",
        "    entry_code = categories[section_match.group(1)]\n",
        "    contents = section_match.group(2)\n",
        "    parseAndPrintRows(contents, entry_code, f)\n",
        "print(\"Finished\")\n",
        "files.download(txf_filename)"
      ],
      "execution_count": null,
      "outputs": []
    }
  ]
}